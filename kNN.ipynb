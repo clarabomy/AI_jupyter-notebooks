{
 "cells": [
  {
   "cell_type": "code",
   "execution_count": 1,
   "metadata": {},
   "outputs": [
    {
     "name": "stdout",
     "output_type": "stream",
     "text": [
      "[[12.0513 33.3974  0.    ]\n",
      " [18.7179 35.3205  0.    ]\n",
      " [19.7436 26.859   0.    ]\n",
      " [13.3333 22.6282  0.    ]\n",
      " [20.2564 19.1667  0.    ]\n",
      " [26.1538 28.3974  0.    ]\n",
      " [24.359  39.9359  0.    ]\n",
      " [16.6667 41.859   0.    ]\n",
      " [30.     35.7051  0.    ]\n",
      " [31.0256 16.859   0.    ]\n",
      " [39.7436 22.2436  0.    ]\n",
      " [32.8205 28.7821  0.    ]\n",
      " [37.6923 36.4744  0.    ]\n",
      " [45.1282 35.3205  0.    ]\n",
      " [32.8205 43.3974  0.    ]\n",
      " [33.5897 32.2436  0.    ]\n",
      " [21.2821 34.1667  0.    ]\n",
      " [34.1026 18.0128  0.    ]\n",
      " [ 6.9231 48.7821  0.    ]\n",
      " [30.     95.7051  1.    ]\n",
      " [40.7692 96.859   1.    ]\n",
      " [33.5897 76.0897  1.    ]\n",
      " [54.8718 69.1667  1.    ]\n",
      " [35.1282 54.1667  1.    ]\n",
      " [24.1026 58.7821  1.    ]\n",
      " [47.1795 58.0128  1.    ]\n",
      " [42.0513 70.3205  1.    ]\n",
      " [25.1282 72.6282  1.    ]\n",
      " [34.1026 65.3205  1.    ]\n",
      " [41.0256 76.859   1.    ]\n",
      " [28.2051 86.0897  1.    ]\n",
      " [44.1026 87.2436  1.    ]\n",
      " [58.4615 75.7051  1.    ]\n",
      " [45.1282 72.6282  1.    ]\n",
      " [42.8205 61.859   1.    ]\n",
      " [36.6667 88.7821  1.    ]\n",
      " [53.8462 81.0897  1.    ]\n",
      " [29.2308 68.7821  1.    ]\n",
      " [35.1282 58.3974  1.    ]\n",
      " [27.4359 58.3974  1.    ]\n",
      " [23.0769 68.7821  1.    ]\n",
      " [39.2308 69.5513  1.    ]\n",
      " [33.0769 83.3974  1.    ]\n",
      " [55.1282 54.5513  2.    ]\n",
      " [67.4359 60.3205  2.    ]\n",
      " [74.8718 48.7821  2.    ]\n",
      " [64.6154 42.2436  2.    ]\n",
      " [77.1795 34.5513  2.    ]\n",
      " [66.6667 11.4744  2.    ]\n",
      " [56.1538 22.6282  2.    ]\n",
      " [69.2308 29.9359  2.    ]\n",
      " [56.6667 36.0897  2.    ]\n",
      " [56.1538 42.6282  2.    ]\n",
      " [63.5897 49.1667  2.    ]\n",
      " [93.5897 59.5513  2.    ]\n",
      " [89.4872 33.3974  2.    ]\n",
      " [73.0769  6.859   2.    ]\n",
      " [88.2051 16.0897  2.    ]\n",
      " [73.0769 16.0897  2.    ]\n",
      " [64.1026 19.1667  2.    ]\n",
      " [83.0769 23.7821  2.    ]\n",
      " [61.0256 30.3205  2.    ]\n",
      " [70.     39.5513  2.    ]\n",
      " [90.5128 43.0128  2.    ]\n",
      " [81.0256 60.3205  2.    ]\n",
      " [81.0256 48.7821  2.    ]\n",
      " [77.1795 39.5513  2.    ]\n",
      " [82.3077 39.1667  2.    ]\n",
      " [76.6667 25.3205  2.    ]\n",
      " [59.2308 45.3205  2.    ]\n",
      " [70.     45.3205  2.    ]]\n"
     ]
    }
   ],
   "source": [
    "import numpy as np\n",
    "import matplotlib.pyplot as plt\n",
    "from matplotlib.colors import ListedColormap\n",
    "from sklearn import neighbors, datasets\n",
    "\n",
    "# Parameters\n",
    "n_neighbors = 1\n",
    "\n",
    "# Load data\n",
    "f = open(\"data/dectree.csv\")\n",
    "data = np.loadtxt(f, delimiter=',')\n",
    "print(data)"
   ]
  },
  {
   "cell_type": "code",
   "execution_count": 2,
   "metadata": {},
   "outputs": [
    {
     "name": "stdout",
     "output_type": "stream",
     "text": [
      "[[12.0513 33.3974]\n",
      " [18.7179 35.3205]\n",
      " [19.7436 26.859 ]\n",
      " [13.3333 22.6282]\n",
      " [20.2564 19.1667]\n",
      " [26.1538 28.3974]\n",
      " [24.359  39.9359]\n",
      " [16.6667 41.859 ]\n",
      " [30.     35.7051]\n",
      " [31.0256 16.859 ]\n",
      " [39.7436 22.2436]\n",
      " [32.8205 28.7821]\n",
      " [37.6923 36.4744]\n",
      " [45.1282 35.3205]\n",
      " [32.8205 43.3974]\n",
      " [33.5897 32.2436]\n",
      " [21.2821 34.1667]\n",
      " [34.1026 18.0128]\n",
      " [ 6.9231 48.7821]\n",
      " [30.     95.7051]\n",
      " [40.7692 96.859 ]\n",
      " [33.5897 76.0897]\n",
      " [54.8718 69.1667]\n",
      " [35.1282 54.1667]\n",
      " [24.1026 58.7821]\n",
      " [47.1795 58.0128]\n",
      " [42.0513 70.3205]\n",
      " [25.1282 72.6282]\n",
      " [34.1026 65.3205]\n",
      " [41.0256 76.859 ]\n",
      " [28.2051 86.0897]\n",
      " [44.1026 87.2436]\n",
      " [58.4615 75.7051]\n",
      " [45.1282 72.6282]\n",
      " [42.8205 61.859 ]\n",
      " [36.6667 88.7821]\n",
      " [53.8462 81.0897]\n",
      " [29.2308 68.7821]\n",
      " [35.1282 58.3974]\n",
      " [27.4359 58.3974]\n",
      " [23.0769 68.7821]\n",
      " [39.2308 69.5513]\n",
      " [33.0769 83.3974]\n",
      " [55.1282 54.5513]\n",
      " [67.4359 60.3205]\n",
      " [74.8718 48.7821]\n",
      " [64.6154 42.2436]\n",
      " [77.1795 34.5513]\n",
      " [66.6667 11.4744]\n",
      " [56.1538 22.6282]\n",
      " [69.2308 29.9359]\n",
      " [56.6667 36.0897]\n",
      " [56.1538 42.6282]\n",
      " [63.5897 49.1667]\n",
      " [93.5897 59.5513]\n",
      " [89.4872 33.3974]\n",
      " [73.0769  6.859 ]\n",
      " [88.2051 16.0897]\n",
      " [73.0769 16.0897]\n",
      " [64.1026 19.1667]\n",
      " [83.0769 23.7821]\n",
      " [61.0256 30.3205]\n",
      " [70.     39.5513]\n",
      " [90.5128 43.0128]\n",
      " [81.0256 60.3205]\n",
      " [81.0256 48.7821]\n",
      " [77.1795 39.5513]\n",
      " [82.3077 39.1667]\n",
      " [76.6667 25.3205]\n",
      " [59.2308 45.3205]\n",
      " [70.     45.3205]]\n",
      "[0 0 0 0 0 0 0 0 0 0 0 0 0 0 0 0 0 0 0 1 1 1 1 1 1 1 1 1 1 1 1 1 1 1 1 1 1\n",
      " 1 1 1 1 1 1 2 2 2 2 2 2 2 2 2 2 2 2 2 2 2 2 2 2 2 2 2 2 2 2 2 2 2 2]\n"
     ]
    }
   ],
   "source": [
    "X = data[:,0:2]\n",
    "y = data[:,2].astype(int)\n",
    "\n",
    "print(X)\n",
    "print(y)"
   ]
  },
  {
   "cell_type": "code",
   "execution_count": 5,
   "metadata": {},
   "outputs": [
    {
     "data": {
      "image/png": "[encoded data removed]",
      "text/plain": [
       "<Figure size 432x288 with 1 Axes>"
      ]
     },
     "metadata": {
      "needs_background": "light"
     },
     "output_type": "display_data"
    }
   ],
   "source": [
    "h = 1  # step size in the mesh\n",
    "\n",
    "# Create color maps\n",
    "lightColors = ListedColormap(['#FFAAAA', '#AAFFAA', '#AAAAFF'])\n",
    "boldColors = ListedColormap(['#FF0000', '#00FF00', '#0000FF'])\n",
    "\n",
    "# we create an instance of Neighbours Classifier and fit the data.\n",
    "clf = neighbors.KNeighborsClassifier(n_neighbors, weights='distance')\n",
    "clf.fit(X, y)\n",
    "\n",
    "# Plot the decision boundary. For that, we will assign a color to each\n",
    "# point in the mesh [x_min, x_max]x[y_min, y_max].\n",
    "x_min, x_max = X[:, 0].min() - 1, X[:, 0].max() + 1\n",
    "y_min, y_max = X[:, 1].min() - 1, X[:, 1].max() + 1\n",
    "xx, yy = np.meshgrid(np.arange(x_min, x_max, h),\n",
    "                     np.arange(y_min, y_max, h))\n",
    "Z = clf.predict(np.c_[xx.ravel(), yy.ravel()])\n",
    "\n",
    "# Put the result into a color plot\n",
    "Z = Z.reshape(xx.shape)\n",
    "plt.figure()\n",
    "plt.pcolormesh(xx, yy, Z, cmap=lightColors)\n",
    "\n",
    "# Plot also the training points\n",
    "#plt.scatter(X[:, 0], X[:, 1], c=y, cmap=boldColors, edgecolor='k', s=20)\n",
    "plt.xlim(xx.min(), xx.max())\n",
    "plt.ylim(yy.min(), yy.max())\n",
    "plt.title(\"kNN 3-Class classification (k = %i)\" % (n_neighbors))\n",
    "plt.show()"
   ]
  },
  {
   "cell_type": "code",
   "execution_count": 6,
   "metadata": {},
   "outputs": [
    {
     "data": {
      "text/plain": [
       "array([2])"
      ]
     },
     "execution_count": 6,
     "metadata": {},
     "output_type": "execute_result"
    }
   ],
   "source": [
    "clf.predict([[80,80]])"
   ]
  },
  {
   "cell_type": "code",
   "execution_count": null,
   "metadata": {},
   "outputs": [],
   "source": []
  }
 ],
 "metadata": {
  "kernelspec": {
   "display_name": "Python 3",
   "language": "python",
   "name": "python3"
  },
  "language_info": {
   "codemirror_mode": {
    "name": "ipython",
    "version": 3
   },
   "file_extension": ".py",
   "mimetype": "text/x-python",
   "name": "python",
   "nbconvert_exporter": "python",
   "pygments_lexer": "ipython3",
   "version": "3.6.6"
  }
 },
 "nbformat": 4,
 "nbformat_minor": 2
}
